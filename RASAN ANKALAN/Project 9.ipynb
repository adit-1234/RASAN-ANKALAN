{
 "cells": [
  {
   "cell_type": "code",
   "execution_count": 1,
   "id": "8102e94b",
   "metadata": {},
   "outputs": [],
   "source": [
    "import pandas as pd\n",
    "from sklearn.model_selection import train_test_split\n",
    "from sklearn.preprocessing import StandardScaler\n",
    "from sklearn.decomposition import PCA\n",
    "from sklearn.feature_selection import SelectKBest, f_regression\n",
    "from sklearn.model_selection import GridSearchCV\n",
    "from sklearn.ensemble import RandomForestRegressor\n",
    "from sklearn.metrics import mean_squared_error, mean_absolute_error, r2_score"
   ]
  },
  {
   "cell_type": "code",
   "execution_count": 2,
   "id": "5fbd72ea",
   "metadata": {},
   "outputs": [],
   "source": [
    "# Load the dataset\n",
    "df = pd.read_csv(\"D:\\\\My Programming\\\\tox21trainingdata.sdf\\\\augmenteddataset.csv\")"
   ]
  },
  {
   "cell_type": "code",
   "execution_count": 3,
   "id": "1a645c67",
   "metadata": {},
   "outputs": [],
   "source": [
    "# Split the dataset into input features and target variable\n",
    "X = df[['MolWeight', 'NumAtoms', 'NumHeavyAtoms', 'NumRotatableBonds']]\n",
    "y = df['toxicity_score']"
   ]
  },
  {
   "cell_type": "code",
   "execution_count": 4,
   "id": "ea55039a",
   "metadata": {},
   "outputs": [],
   "source": [
    "# Split the dataset into training and testing sets\n",
    "X_train, X_test, y_train, y_test = train_test_split(X, y, test_size=0.2, random_state=42)\n"
   ]
  },
  {
   "cell_type": "code",
   "execution_count": 5,
   "id": "a5e4bd3f",
   "metadata": {},
   "outputs": [],
   "source": [
    "# Standardize the input features\n",
    "scaler = StandardScaler()\n",
    "X_train_scaled = scaler.fit_transform(X_train)\n",
    "X_test_scaled = scaler.transform(X_test)\n"
   ]
  },
  {
   "cell_type": "code",
   "execution_count": 6,
   "id": "073a176c",
   "metadata": {},
   "outputs": [],
   "source": [
    "# Perform Principal Component Analysis (PCA)\n",
    "pca = PCA(n_components=2)\n",
    "X_train_pca = pca.fit_transform(X_train_scaled)\n",
    "X_test_pca = pca.transform(X_test_scaled)\n"
   ]
  },
  {
   "cell_type": "code",
   "execution_count": 7,
   "id": "51683601",
   "metadata": {},
   "outputs": [],
   "source": [
    "# Perform feature selection using SelectKBest with f_regression\n",
    "kbest = SelectKBest(score_func=f_regression, k=2)\n",
    "X_train_selected = kbest.fit_transform(X_train_scaled, y_train)\n",
    "X_test_selected = kbest.transform(X_test_scaled)"
   ]
  },
  {
   "cell_type": "code",
   "execution_count": 8,
   "id": "51a8b039",
   "metadata": {},
   "outputs": [],
   "source": [
    "# Perform hyperparameter tuning using GridSearchCV\n",
    "param_grid = {'n_estimators': [100, 200, 300], 'max_depth': [3, 5, 7]}\n",
    "grid_search = GridSearchCV(RandomForestRegressor(random_state=42), param_grid, cv=5)\n",
    "grid_search.fit(X_train_selected, y_train)\n",
    "best_model = grid_search.best_estimator_"
   ]
  },
  {
   "cell_type": "code",
   "execution_count": 9,
   "id": "ffaa8a89",
   "metadata": {},
   "outputs": [
    {
     "name": "stdout",
     "output_type": "stream",
     "text": [
      "Training set metrics:\n",
      "Mean squared error: 13.57745657862705\n",
      "Testing set metrics:\n",
      "Mean squared error: 14.96848468106271\n"
     ]
    }
   ],
   "source": [
    "# Evaluate the model performance\n",
    "y_train_pred = best_model.predict(X_train_selected)\n",
    "y_test_pred = best_model.predict(X_test_selected)\n",
    "\n",
    "print('Training set metrics:')\n",
    "print('Mean squared error:', mean_squared_error(y_train, y_train_pred))\n",
    "print('Testing set metrics:')\n",
    "print('Mean squared error:', mean_squared_error(y_test, y_test_pred))"
   ]
  },
  {
   "cell_type": "code",
   "execution_count": null,
   "id": "24dd4088",
   "metadata": {},
   "outputs": [],
   "source": []
  }
 ],
 "metadata": {
  "kernelspec": {
   "display_name": "Python 3 (ipykernel)",
   "language": "python",
   "name": "python3"
  },
  "language_info": {
   "codemirror_mode": {
    "name": "ipython",
    "version": 3
   },
   "file_extension": ".py",
   "mimetype": "text/x-python",
   "name": "python",
   "nbconvert_exporter": "python",
   "pygments_lexer": "ipython3",
   "version": "3.10.9"
  }
 },
 "nbformat": 4,
 "nbformat_minor": 5
}
