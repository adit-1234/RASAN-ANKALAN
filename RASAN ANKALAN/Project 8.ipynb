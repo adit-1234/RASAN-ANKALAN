{
 "cells": [
  {
   "cell_type": "code",
   "execution_count": 1,
   "id": "7f317e4f",
   "metadata": {},
   "outputs": [],
   "source": [
    "import pandas as pd\n",
    "from rdkit import Chem"
   ]
  },
  {
   "cell_type": "code",
   "execution_count": 2,
   "id": "dbb4b91f",
   "metadata": {},
   "outputs": [],
   "source": [
    "df = pd.read_csv(\"D:\\\\My Programming\\\\tox21trainingdata.sdf\\\\augmenteddataset.csv\")"
   ]
  },
  {
   "cell_type": "code",
   "execution_count": 3,
   "id": "287f5abf",
   "metadata": {},
   "outputs": [],
   "source": [
    "def generate_data(row):\n",
    "    # Extract relevant columns from the row\n",
    "    name = row['Name']\n",
    "    mol_weight = row['MolWeight']\n",
    "    smiles = row['SMILES']\n",
    "    toxicity_score = row['toxicity_score']\n",
    "    num_atoms = row['NumAtoms']\n",
    "    num_heavy_atoms = row['NumHeavyAtoms']\n",
    "    num_rotatable_bonds = row['NumRotatableBonds']\n",
    "    mol_formula = row['MolFormula']\n",
    "    \n",
    "    # Perform operations to generate additional data\n",
    "    # You can modify this section based on your specific requirements\n",
    "    \n",
    "    # Example: Create a modified SMILES by adding a suffix\n",
    "    modified_smiles = smiles + '_modified'\n",
    "    \n",
    "    # Example: Increase the toxicity score by a factor\n",
    "    modified_toxicity_score = toxicity_score * 2\n",
    "    \n",
    "    # Example: Increase the values of NumAtoms, NumHeavyAtoms, and NumRotatableBonds\n",
    "    modified_num_atoms = num_atoms + 1\n",
    "    modified_num_heavy_atoms = num_heavy_atoms + 1\n",
    "    modified_num_rotatable_bonds = num_rotatable_bonds + 1\n",
    "    \n",
    "    # Example: Modify the MolFormula\n",
    "    modified_mol_formula = mol_formula + '_modified'\n",
    "    \n",
    "    # Create a new row with the generated data\n",
    "    new_row = {\n",
    "        'Name': name,\n",
    "        'MolWeight': mol_weight,\n",
    "        'SMILES': modified_smiles,\n",
    "        'toxicity_score': modified_toxicity_score,\n",
    "        'NumAtoms': modified_num_atoms,\n",
    "        'NumHeavyAtoms': modified_num_heavy_atoms,\n",
    "        'NumRotatableBonds': modified_num_rotatable_bonds,\n",
    "        'MolFormula': modified_mol_formula\n",
    "    }\n",
    "    \n",
    "    return new_row\n",
    "\n",
    "# Apply the generate_data function to each row in the DataFrame\n",
    "modified_data = df.apply(generate_data, axis=1)"
   ]
  },
  {
   "cell_type": "code",
   "execution_count": 4,
   "id": "a7e61c20",
   "metadata": {},
   "outputs": [],
   "source": [
    "additional_data = df.apply(generate_data, axis=1)"
   ]
  },
  {
   "cell_type": "code",
   "execution_count": 5,
   "id": "9d7648d4",
   "metadata": {},
   "outputs": [],
   "source": [
    "additional_data_df = pd.DataFrame(list(additional_data))\n",
    "new_data = pd.concat([df, additional_data_df], ignore_index=True)"
   ]
  },
  {
   "cell_type": "code",
   "execution_count": 6,
   "id": "1170e571",
   "metadata": {},
   "outputs": [],
   "source": [
    "new_data.to_csv('1augmenteddataset.csv', index=False)"
   ]
  },
  {
   "cell_type": "code",
   "execution_count": null,
   "id": "e4c500ce",
   "metadata": {},
   "outputs": [],
   "source": []
  }
 ],
 "metadata": {
  "kernelspec": {
   "display_name": "Python 3 (ipykernel)",
   "language": "python",
   "name": "python3"
  },
  "language_info": {
   "codemirror_mode": {
    "name": "ipython",
    "version": 3
   },
   "file_extension": ".py",
   "mimetype": "text/x-python",
   "name": "python",
   "nbconvert_exporter": "python",
   "pygments_lexer": "ipython3",
   "version": "3.11.3"
  }
 },
 "nbformat": 4,
 "nbformat_minor": 5
}
