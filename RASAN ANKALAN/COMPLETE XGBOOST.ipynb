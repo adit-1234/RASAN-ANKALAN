{
 "cells": [
  {
   "cell_type": "code",
   "execution_count": 15,
   "id": "d7742fb4",
   "metadata": {},
   "outputs": [
    {
     "name": "stdout",
     "output_type": "stream",
     "text": [
      "Requirement already satisfied: xgboost in d:\\download\\anaconda\\lib\\site-packages (1.7.5)\n",
      "Requirement already satisfied: numpy in d:\\download\\anaconda\\lib\\site-packages (from xgboost) (1.23.5)\n",
      "Requirement already satisfied: scipy in d:\\download\\anaconda\\lib\\site-packages (from xgboost) (1.10.0)\n"
     ]
    }
   ],
   "source": [
    "!pip install xgboost\n",
    "import pandas as pd\n",
    "import numpy as np\n",
    "from sklearn.model_selection import train_test_split\n",
    "from sklearn.metrics import r2_score, mean_absolute_error, mean_squared_error\n",
    "import xgboost as xgb"
   ]
  },
  {
   "cell_type": "code",
   "execution_count": 16,
   "id": "3b667d03",
   "metadata": {},
   "outputs": [],
   "source": [
    "df = pd.read_csv(\"D:\\\\My Programming\\\\tox21trainingdata.sdf\\\\feature_engineered_data.csv\")"
   ]
  },
  {
   "cell_type": "code",
   "execution_count": 17,
   "id": "69f931f2",
   "metadata": {},
   "outputs": [],
   "source": [
    "X = df[['MolWeight', 'NumAtoms', 'NumHeavyAtoms', 'NumRotatableBonds']]\n",
    "y = df['toxicity_score']"
   ]
  },
  {
   "cell_type": "code",
   "execution_count": 18,
   "id": "e5606f36",
   "metadata": {},
   "outputs": [],
   "source": [
    "X_train, X_test, y_train, y_test = train_test_split(X, y, test_size=0.2, random_state=42)"
   ]
  },
  {
   "cell_type": "code",
   "execution_count": 19,
   "id": "1844ec10",
   "metadata": {},
   "outputs": [],
   "source": [
    "xgb_model = xgb.XGBRegressor(objective='reg:squarederror', n_estimators=1000, learning_rate=0.05, max_depth=6)"
   ]
  },
  {
   "cell_type": "code",
   "execution_count": 20,
   "id": "ddd2e69a",
   "metadata": {},
   "outputs": [
    {
     "data": {
      "text/html": [
       "<style>#sk-container-id-1 {color: black;background-color: white;}#sk-container-id-1 pre{padding: 0;}#sk-container-id-1 div.sk-toggleable {background-color: white;}#sk-container-id-1 label.sk-toggleable__label {cursor: pointer;display: block;width: 100%;margin-bottom: 0;padding: 0.3em;box-sizing: border-box;text-align: center;}#sk-container-id-1 label.sk-toggleable__label-arrow:before {content: \"▸\";float: left;margin-right: 0.25em;color: #696969;}#sk-container-id-1 label.sk-toggleable__label-arrow:hover:before {color: black;}#sk-container-id-1 div.sk-estimator:hover label.sk-toggleable__label-arrow:before {color: black;}#sk-container-id-1 div.sk-toggleable__content {max-height: 0;max-width: 0;overflow: hidden;text-align: left;background-color: #f0f8ff;}#sk-container-id-1 div.sk-toggleable__content pre {margin: 0.2em;color: black;border-radius: 0.25em;background-color: #f0f8ff;}#sk-container-id-1 input.sk-toggleable__control:checked~div.sk-toggleable__content {max-height: 200px;max-width: 100%;overflow: auto;}#sk-container-id-1 input.sk-toggleable__control:checked~label.sk-toggleable__label-arrow:before {content: \"▾\";}#sk-container-id-1 div.sk-estimator input.sk-toggleable__control:checked~label.sk-toggleable__label {background-color: #d4ebff;}#sk-container-id-1 div.sk-label input.sk-toggleable__control:checked~label.sk-toggleable__label {background-color: #d4ebff;}#sk-container-id-1 input.sk-hidden--visually {border: 0;clip: rect(1px 1px 1px 1px);clip: rect(1px, 1px, 1px, 1px);height: 1px;margin: -1px;overflow: hidden;padding: 0;position: absolute;width: 1px;}#sk-container-id-1 div.sk-estimator {font-family: monospace;background-color: #f0f8ff;border: 1px dotted black;border-radius: 0.25em;box-sizing: border-box;margin-bottom: 0.5em;}#sk-container-id-1 div.sk-estimator:hover {background-color: #d4ebff;}#sk-container-id-1 div.sk-parallel-item::after {content: \"\";width: 100%;border-bottom: 1px solid gray;flex-grow: 1;}#sk-container-id-1 div.sk-label:hover label.sk-toggleable__label {background-color: #d4ebff;}#sk-container-id-1 div.sk-serial::before {content: \"\";position: absolute;border-left: 1px solid gray;box-sizing: border-box;top: 0;bottom: 0;left: 50%;z-index: 0;}#sk-container-id-1 div.sk-serial {display: flex;flex-direction: column;align-items: center;background-color: white;padding-right: 0.2em;padding-left: 0.2em;position: relative;}#sk-container-id-1 div.sk-item {position: relative;z-index: 1;}#sk-container-id-1 div.sk-parallel {display: flex;align-items: stretch;justify-content: center;background-color: white;position: relative;}#sk-container-id-1 div.sk-item::before, #sk-container-id-1 div.sk-parallel-item::before {content: \"\";position: absolute;border-left: 1px solid gray;box-sizing: border-box;top: 0;bottom: 0;left: 50%;z-index: -1;}#sk-container-id-1 div.sk-parallel-item {display: flex;flex-direction: column;z-index: 1;position: relative;background-color: white;}#sk-container-id-1 div.sk-parallel-item:first-child::after {align-self: flex-end;width: 50%;}#sk-container-id-1 div.sk-parallel-item:last-child::after {align-self: flex-start;width: 50%;}#sk-container-id-1 div.sk-parallel-item:only-child::after {width: 0;}#sk-container-id-1 div.sk-dashed-wrapped {border: 1px dashed gray;margin: 0 0.4em 0.5em 0.4em;box-sizing: border-box;padding-bottom: 0.4em;background-color: white;}#sk-container-id-1 div.sk-label label {font-family: monospace;font-weight: bold;display: inline-block;line-height: 1.2em;}#sk-container-id-1 div.sk-label-container {text-align: center;}#sk-container-id-1 div.sk-container {/* jupyter's `normalize.less` sets `[hidden] { display: none; }` but bootstrap.min.css set `[hidden] { display: none !important; }` so we also need the `!important` here to be able to override the default hidden behavior on the sphinx rendered scikit-learn.org. See: https://github.com/scikit-learn/scikit-learn/issues/21755 */display: inline-block !important;position: relative;}#sk-container-id-1 div.sk-text-repr-fallback {display: none;}</style><div id=\"sk-container-id-1\" class=\"sk-top-container\"><div class=\"sk-text-repr-fallback\"><pre>XGBRegressor(base_score=None, booster=None, callbacks=None,\n",
       "             colsample_bylevel=None, colsample_bynode=None,\n",
       "             colsample_bytree=None, early_stopping_rounds=None,\n",
       "             enable_categorical=False, eval_metric=None, feature_types=None,\n",
       "             gamma=None, gpu_id=None, grow_policy=None, importance_type=None,\n",
       "             interaction_constraints=None, learning_rate=0.05, max_bin=None,\n",
       "             max_cat_threshold=None, max_cat_to_onehot=None,\n",
       "             max_delta_step=None, max_depth=6, max_leaves=None,\n",
       "             min_child_weight=None, missing=nan, monotone_constraints=None,\n",
       "             n_estimators=1000, n_jobs=None, num_parallel_tree=None,\n",
       "             predictor=None, random_state=None, ...)</pre><b>In a Jupyter environment, please rerun this cell to show the HTML representation or trust the notebook. <br />On GitHub, the HTML representation is unable to render, please try loading this page with nbviewer.org.</b></div><div class=\"sk-container\" hidden><div class=\"sk-item\"><div class=\"sk-estimator sk-toggleable\"><input class=\"sk-toggleable__control sk-hidden--visually\" id=\"sk-estimator-id-1\" type=\"checkbox\" checked><label for=\"sk-estimator-id-1\" class=\"sk-toggleable__label sk-toggleable__label-arrow\">XGBRegressor</label><div class=\"sk-toggleable__content\"><pre>XGBRegressor(base_score=None, booster=None, callbacks=None,\n",
       "             colsample_bylevel=None, colsample_bynode=None,\n",
       "             colsample_bytree=None, early_stopping_rounds=None,\n",
       "             enable_categorical=False, eval_metric=None, feature_types=None,\n",
       "             gamma=None, gpu_id=None, grow_policy=None, importance_type=None,\n",
       "             interaction_constraints=None, learning_rate=0.05, max_bin=None,\n",
       "             max_cat_threshold=None, max_cat_to_onehot=None,\n",
       "             max_delta_step=None, max_depth=6, max_leaves=None,\n",
       "             min_child_weight=None, missing=nan, monotone_constraints=None,\n",
       "             n_estimators=1000, n_jobs=None, num_parallel_tree=None,\n",
       "             predictor=None, random_state=None, ...)</pre></div></div></div></div></div>"
      ],
      "text/plain": [
       "XGBRegressor(base_score=None, booster=None, callbacks=None,\n",
       "             colsample_bylevel=None, colsample_bynode=None,\n",
       "             colsample_bytree=None, early_stopping_rounds=None,\n",
       "             enable_categorical=False, eval_metric=None, feature_types=None,\n",
       "             gamma=None, gpu_id=None, grow_policy=None, importance_type=None,\n",
       "             interaction_constraints=None, learning_rate=0.05, max_bin=None,\n",
       "             max_cat_threshold=None, max_cat_to_onehot=None,\n",
       "             max_delta_step=None, max_depth=6, max_leaves=None,\n",
       "             min_child_weight=None, missing=nan, monotone_constraints=None,\n",
       "             n_estimators=1000, n_jobs=None, num_parallel_tree=None,\n",
       "             predictor=None, random_state=None, ...)"
      ]
     },
     "execution_count": 20,
     "metadata": {},
     "output_type": "execute_result"
    }
   ],
   "source": [
    "xgb_model.fit(X_train, y_train)"
   ]
  },
  {
   "cell_type": "code",
   "execution_count": 21,
   "id": "f7fa29cb",
   "metadata": {},
   "outputs": [],
   "source": [
    "y_pred = xgb_model.predict(X_test)"
   ]
  },
  {
   "cell_type": "code",
   "execution_count": 22,
   "id": "419c0efd",
   "metadata": {},
   "outputs": [],
   "source": [
    "r2 = r2_score(y_test, y_pred)\n",
    "mae = mean_absolute_error(y_test, y_pred)\n",
    "mse = mean_squared_error(y_test, y_pred)\n",
    "rmse = np.sqrt(mse)"
   ]
  },
  {
   "cell_type": "code",
   "execution_count": 23,
   "id": "1dcfc5ec",
   "metadata": {},
   "outputs": [
    {
     "name": "stdout",
     "output_type": "stream",
     "text": [
      "R2 score: 0.4396948800921058\n",
      "Mean absolute error: 1.1637416017726152\n",
      "Mean squared error: 3.5348796393645014\n",
      "Root mean squared error: 1.880127559333276\n"
     ]
    }
   ],
   "source": [
    "print('R2 score:', r2)\n",
    "print('Mean absolute error:', mae)\n",
    "print('Mean squared error:', mse)\n",
    "print('Root mean squared error:', rmse)"
   ]
  },
  {
   "cell_type": "code",
   "execution_count": 25,
   "id": "a185e72d",
   "metadata": {},
   "outputs": [],
   "source": [
    "#Principal Component Analysis (PCA)\n",
    "from sklearn.decomposition import PCA\n",
    "\n",
    "# Create PCA object with n_components\n",
    "pca = PCA(n_components=2)\n",
    "\n",
    "# Fit and transform the training data\n",
    "X_train_pca = pca.fit_transform(X_train)\n",
    "\n",
    "# Transform the test data\n",
    "X_test_pca = pca.transform(X_train)\n"
   ]
  },
  {
   "cell_type": "code",
   "execution_count": 33,
   "id": "d2f54c0c",
   "metadata": {},
   "outputs": [
    {
     "name": "stdout",
     "output_type": "stream",
     "text": [
      "Cross-validation scores: [0.06210689 0.04768568 0.05211181 0.03089278 0.05763929]\n",
      "Average cross-validation score: 0.05\n",
      "R2 score: 0.07263698644902705\n",
      "Mean absolute error: 1.6898195017928184\n",
      "Mean squared error: 5.850591969318278\n",
      "Root mean squared error: 2.418799695989372\n"
     ]
    }
   ],
   "source": [
    "from sklearn.decomposition import PCA\n",
    "from sklearn.pipeline import Pipeline\n",
    "from sklearn.linear_model import LinearRegression\n",
    "from sklearn.model_selection import cross_val_score\n",
    "pca = PCA(n_components=4)\n",
    "linear_reg = LinearRegression()\n",
    "pipeline = Pipeline(steps=[('pca', pca), ('linear_reg', linear_reg)])\n",
    "pipeline.fit(X_train, y_train)\n",
    "scores = cross_val_score(pipeline, X_train, y_train, cv=5, scoring='r2')\n",
    "print(\"Cross-validation scores: {}\".format(scores))\n",
    "print(\"Average cross-validation score: {:.2f}\".format(scores.mean()))\n",
    "y_pred = pipeline.predict(X_test)\n",
    "r2_score = r2_score(y_test, y_pred)\n",
    "mean_absolute_error = mean_absolute_error(y_test, y_pred)\n",
    "mean_squared_error = mean_squared_error(y_test, y_pred)\n",
    "root_mean_squared_error = np.sqrt(mean_squared_error)\n",
    "print(\"R2 score: {}\".format(r2_score))\n",
    "print(\"Mean absolute error: {}\".format(mean_absolute_error))\n",
    "print(\"Mean squared error: {}\".format(mean_squared_error))\n",
    "print(\"Root mean squared error: {}\".format(root_mean_squared_error))\n",
    "\n"
   ]
  },
  {
   "cell_type": "code",
   "execution_count": 37,
   "id": "bf6c5751",
   "metadata": {},
   "outputs": [],
   "source": [
    "#Recursive Feature Elimination (RFE)\n",
    "from sklearn.feature_selection import RFE\n",
    "from sklearn.linear_model import LinearRegression\n",
    "\n",
    "# Create linear regression object\n",
    "lr = LinearRegression()\n",
    "\n",
    "# Create RFE object with n_features_to_select\n",
    "rfe = RFE(estimator=lr, n_features_to_select=5)\n",
    "\n",
    "# Fit RFE on training data\n",
    "X_train_rfe = rfe.fit_transform(X_train, y_train)\n",
    "\n",
    "# Transform test data\n",
    "X_test_rfe = rfe.transform(X_test)\n",
    "\n",
    "# Get the selected features\n",
    "selected_features = X_train.columns[rfe.support_]\n",
    "\n"
   ]
  },
  {
   "cell_type": "code",
   "execution_count": 38,
   "id": "2740456f",
   "metadata": {},
   "outputs": [
    {
     "name": "stdout",
     "output_type": "stream",
     "text": [
      "Training set metrics:\n",
      "R2 score: 0.05085525965058246\n",
      "Mean absolute error: 1.7311201525987592\n",
      "Mean squared error: 6.557909754132812\n",
      "Root mean squared error: 2.560841610512609\n",
      "\n",
      "Testing set metrics:\n",
      "R2 score: 0.07387302405161289\n",
      "Mean absolute error: 1.7088744155070774\n",
      "Mean squared error: 5.867634024623084\n",
      "Root mean squared error: 2.422319967432685\n"
     ]
    }
   ],
   "source": [
    "from sklearn.linear_model import LinearRegression\n",
    "from sklearn.metrics import r2_score, mean_absolute_error, mean_squared_error\n",
    "from sklearn.model_selection import train_test_split\n",
    "\n",
    "# Split the dataset into target variable (toxicity_score) and input features (selected_features)\n",
    "X = df[selected_features]\n",
    "y = df['toxicity_score']\n",
    "\n",
    "# Split the dataset into training and testing sets using train_test_split\n",
    "X_train, X_test, y_train, y_test = train_test_split(X, y, test_size=0.3, random_state=42)\n",
    "\n",
    "# Train a linear regression model on the training set\n",
    "lr = LinearRegression()\n",
    "lr.fit(X_train, y_train)\n",
    "\n",
    "# Make predictions on the training and testing sets\n",
    "y_train_pred = lr.predict(X_train)\n",
    "y_test_pred = lr.predict(X_test)\n",
    "\n",
    "# Evaluate the model's performance on the training and testing sets\n",
    "print(\"Training set metrics:\")\n",
    "print(\"R2 score:\", r2_score(y_train, y_train_pred))\n",
    "print(\"Mean absolute error:\", mean_absolute_error(y_train, y_train_pred))\n",
    "print(\"Mean squared error:\", mean_squared_error(y_train, y_train_pred))\n",
    "print(\"Root mean squared error:\", np.sqrt(mean_squared_error(y_train, y_train_pred)))\n",
    "\n",
    "print(\"\\nTesting set metrics:\")\n",
    "print(\"R2 score:\", r2_score(y_test, y_test_pred))\n",
    "print(\"Mean absolute error:\", mean_absolute_error(y_test, y_test_pred))\n",
    "print(\"Mean squared error:\", mean_squared_error(y_test, y_test_pred))\n",
    "print(\"Root mean squared error:\", np.sqrt(mean_squared_error(y_test, y_test_pred)))\n"
   ]
  },
  {
   "cell_type": "code",
   "execution_count": 40,
   "id": "81ec9b71",
   "metadata": {},
   "outputs": [],
   "source": [
    "#Normalization\n",
    "from sklearn.preprocessing import MinMaxScaler\n",
    "\n",
    "# Create scaler object\n",
    "scaler = MinMaxScaler()\n",
    "\n",
    "# Fit and transform scaler on training data\n",
    "X_train_norm = scaler.fit_transform(X_train)\n",
    "\n",
    "# Transform test data\n",
    "X_test_norm = scaler.transform(X_test)\n"
   ]
  },
  {
   "cell_type": "code",
   "execution_count": 42,
   "id": "296eeae0",
   "metadata": {},
   "outputs": [
    {
     "name": "stdout",
     "output_type": "stream",
     "text": [
      "Training set metrics:\n",
      "R2 score: 0.05085525965058235\n",
      "Mean absolute error: 1.7311201525987592\n",
      "Mean squared error: 6.557909754132813\n",
      "Root mean squared error: 2.560841610512609\n",
      "\n",
      "Testing set metrics:\n",
      "R2 score: 0.07387302405161311\n",
      "Mean absolute error: 1.7088744155070774\n",
      "Mean squared error: 5.867634024623083\n",
      "Root mean squared error: 2.422319967432685\n"
     ]
    }
   ],
   "source": [
    "scaler = MinMaxScaler()\n",
    "X_train_scaled = scaler.fit_transform(X_train)\n",
    "X_test_scaled = scaler.transform(X_test)\n",
    "model = LinearRegression()\n",
    "model.fit(X_train_scaled, y_train)\n",
    "\n",
    "# Predict the toxicity scores for the training and testing sets\n",
    "y_train_pred = model.predict(X_train_scaled)\n",
    "y_test_pred = model.predict(X_test_scaled)\n",
    "\n",
    "# Evaluate the model on the training and testing sets\n",
    "print(\"Training set metrics:\")\n",
    "print(\"R2 score:\", r2_score(y_train, y_train_pred))\n",
    "print(\"Mean absolute error:\", mean_absolute_error(y_train, y_train_pred))\n",
    "print(\"Mean squared error:\", mean_squared_error(y_train, y_train_pred))\n",
    "print(\"Root mean squared error:\", mean_squared_error(y_train, y_train_pred, squared=False))\n",
    "\n",
    "print(\"\\nTesting set metrics:\")\n",
    "print(\"R2 score:\", r2_score(y_test, y_test_pred))\n",
    "print(\"Mean absolute error:\", mean_absolute_error(y_test, y_test_pred))\n",
    "print(\"Mean squared error:\", mean_squared_error(y_test, y_test_pred))\n",
    "print(\"Root mean squared error:\", mean_squared_error(y_test, y_test_pred, squared=False))"
   ]
  },
  {
   "cell_type": "code",
   "execution_count": 44,
   "id": "f1b3dc31",
   "metadata": {},
   "outputs": [
    {
     "name": "stdout",
     "output_type": "stream",
     "text": [
      "{'alpha': 0.81768981027936}\n",
      "R2 score: 0.07387297018862349\n",
      "Mean absolute error: 1.708874602632774\n",
      "Mean squared error: 5.86763436588116\n",
      "Root mean squared error: 2.422320037873022\n"
     ]
    }
   ],
   "source": [
    "#hyperparameter tuning using RandomizedSearchCV\n",
    "from scipy.stats import uniform\n",
    "from sklearn.linear_model import Ridge\n",
    "\n",
    "param_dist = {'alpha': uniform(0, 1)}\n",
    "model = Ridge()\n",
    "from sklearn.model_selection import RandomizedSearchCV\n",
    "\n",
    "search = RandomizedSearchCV(model, param_distributions=param_dist, cv=5)\n",
    "search.fit(X_train, y_train)\n",
    "print(search.best_params_)\n",
    "best_model = Ridge(alpha=search.best_params_['alpha'])\n",
    "best_model.fit(X_train, y_train)\n",
    "\n",
    "# Evaluate the model on the testing data\n",
    "y_pred = best_model.predict(X_test)\n",
    "r2 = r2_score(y_test, y_pred)\n",
    "mae = mean_absolute_error(y_test, y_pred)\n",
    "mse = mean_squared_error(y_test, y_pred)\n",
    "rmse = np.sqrt(mse)\n",
    "\n",
    "print(f\"R2 score: {r2}\")\n",
    "print(f\"Mean absolute error: {mae}\")\n",
    "print(f\"Mean squared error: {mse}\")\n",
    "print(f\"Root mean squared error: {rmse}\")\n",
    "\n"
   ]
  },
  {
   "cell_type": "code",
   "execution_count": 48,
   "id": "9e7e1840",
   "metadata": {},
   "outputs": [
    {
     "name": "stderr",
     "output_type": "stream",
     "text": [
      "D:\\Download\\ANACONDA\\lib\\site-packages\\sklearn\\ensemble\\_base.py:166: FutureWarning: `base_estimator` was renamed to `estimator` in version 1.2 and will be removed in 1.4.\n",
      "  warnings.warn(\n"
     ]
    },
    {
     "name": "stdout",
     "output_type": "stream",
     "text": [
      "Bagging with Random Forest:\n",
      "R2 score: 0.42092686729837336\n",
      "Mean absolute error: 1.152133125845822\n",
      "Mean squared error: 3.668815728756508\n",
      "Root mean squared error: 1.9154152888490026\n"
     ]
    }
   ],
   "source": [
    "#Ensemble methods\n",
    "#Bagging with Random Forest\n",
    "from sklearn.ensemble import BaggingRegressor\n",
    "from sklearn.ensemble import RandomForestRegressor\n",
    "from sklearn.metrics import r2_score, mean_absolute_error, mean_squared_error\n",
    "\n",
    "# Instantiate the Random Forest model\n",
    "rf = RandomForestRegressor(random_state=42)\n",
    "\n",
    "# Instantiate the Bagging model with Random Forest as the base estimator\n",
    "bagging_rf = BaggingRegressor(base_estimator=rf, random_state=42)\n",
    "\n",
    "# Fit the Bagging model to the training data\n",
    "bagging_rf.fit(X_train, y_train)\n",
    "\n",
    "# Make predictions on the testing data\n",
    "y_pred_bagging_rf = bagging_rf.predict(X_test)\n",
    "\n",
    "# Evaluate the performance of the Bagging model\n",
    "print(\"Bagging with Random Forest:\")\n",
    "print(\"R2 score:\", r2_score(y_test, y_pred_bagging_rf))\n",
    "print(\"Mean absolute error:\", mean_absolute_error(y_test, y_pred_bagging_rf))\n",
    "print(\"Mean squared error:\", mean_squared_error(y_test, y_pred_bagging_rf))\n",
    "print(\"Root mean squared error:\", np.sqrt(mean_squared_error(y_test, y_pred_bagging_rf)))\n",
    "\n",
    "\n"
   ]
  },
  {
   "cell_type": "code",
   "execution_count": 49,
   "id": "e48ca3c2",
   "metadata": {},
   "outputs": [
    {
     "name": "stdout",
     "output_type": "stream",
     "text": [
      "Boosting with Gradient Boosting:\n",
      "R2 score: 0.19821133493722098\n",
      "Mean absolute error: 1.5441379012507601\n",
      "Mean squared error: 5.079867635711402\n",
      "Root mean squared error: 2.253856170147377\n"
     ]
    }
   ],
   "source": [
    "#Boosting with Gradient Boosting\n",
    "from sklearn.ensemble import GradientBoostingRegressor\n",
    "from sklearn.metrics import r2_score, mean_absolute_error, mean_squared_error\n",
    "\n",
    "# Instantiate the Gradient Boosting model\n",
    "gb = GradientBoostingRegressor(random_state=42)\n",
    "\n",
    "# Fit the Gradient Boosting model to the training data\n",
    "gb.fit(X_train, y_train)\n",
    "\n",
    "# Make predictions on the testing data\n",
    "y_pred_gb = gb.predict(X_test)\n",
    "\n",
    "# Evaluate the performance of the Gradient Boosting model\n",
    "print(\"Boosting with Gradient Boosting:\")\n",
    "print(\"R2 score:\", r2_score(y_test, y_pred_gb))\n",
    "print(\"Mean absolute error:\", mean_absolute_error(y_test, y_pred_gb))\n",
    "print(\"Mean squared error:\", mean_squared_error(y_test, y_pred_gb))\n",
    "print(\"Root mean squared error:\", np.sqrt(mean_squared_error(y_test, y_pred_gb)))\n"
   ]
  },
  {
   "cell_type": "code",
   "execution_count": null,
   "id": "97d6a2e4",
   "metadata": {},
   "outputs": [],
   "source": []
  }
 ],
 "metadata": {
  "kernelspec": {
   "display_name": "Python 3 (ipykernel)",
   "language": "python",
   "name": "python3"
  },
  "language_info": {
   "codemirror_mode": {
    "name": "ipython",
    "version": 3
   },
   "file_extension": ".py",
   "mimetype": "text/x-python",
   "name": "python",
   "nbconvert_exporter": "python",
   "pygments_lexer": "ipython3",
   "version": "3.10.9"
  }
 },
 "nbformat": 4,
 "nbformat_minor": 5
}
