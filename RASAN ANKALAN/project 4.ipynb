{
 "cells": [
  {
   "cell_type": "code",
   "execution_count": 1,
   "id": "afd4d53f",
   "metadata": {},
   "outputs": [],
   "source": [
    "import pandas as pd\n",
    "from rdkit import Chem\n",
    "from rdkit.Chem import Descriptors\n",
    "\n",
    "\n",
    "df = pd.read_csv(\"D:\\\\My Programming\\\\tox21trainingdata.sdf\\\\updated_dataset.csv\")"
   ]
  },
  {
   "cell_type": "code",
   "execution_count": 2,
   "id": "284fbcdb",
   "metadata": {},
   "outputs": [],
   "source": [
    "def get_mol_weight(smiles):\n",
    "    mol = Chem.MolFromSmiles(smiles)\n",
    "    if mol is not None:\n",
    "        return Descriptors.MolWt(mol)\n",
    "    else:\n",
    "        return None\n"
   ]
  },
  {
   "cell_type": "code",
   "execution_count": 3,
   "id": "e219b1bc",
   "metadata": {},
   "outputs": [
    {
     "name": "stderr",
     "output_type": "stream",
     "text": [
      "[21:41:03] WARNING: not removing hydrogen atom without neighbors\n"
     ]
    }
   ],
   "source": [
    "df['MolWeight'] = df['SMILES'].apply(get_mol_weight)\n"
   ]
  },
  {
   "cell_type": "code",
   "execution_count": 4,
   "id": "fd6ede3a",
   "metadata": {},
   "outputs": [],
   "source": [
    "def get_num_atoms(smiles):\n",
    "    mol = Chem.MolFromSmiles(smiles)\n",
    "    if mol is not None:\n",
    "        return mol.GetNumAtoms()\n",
    "    else:\n",
    "        return None\n"
   ]
  },
  {
   "cell_type": "code",
   "execution_count": 5,
   "id": "8be86cbd",
   "metadata": {},
   "outputs": [
    {
     "name": "stderr",
     "output_type": "stream",
     "text": [
      "[21:41:23] WARNING: not removing hydrogen atom without neighbors\n"
     ]
    }
   ],
   "source": [
    "df['NumAtoms'] = df['SMILES'].apply(get_num_atoms)\n"
   ]
  },
  {
   "cell_type": "code",
   "execution_count": 6,
   "id": "e51f6085",
   "metadata": {},
   "outputs": [],
   "source": [
    "def get_num_heavy_atoms(smiles):\n",
    "    mol = Chem.MolFromSmiles(smiles)\n",
    "    if mol is not None:\n",
    "        return Descriptors.HeavyAtomCount(mol)\n",
    "    else:\n",
    "        return None\n"
   ]
  },
  {
   "cell_type": "code",
   "execution_count": 7,
   "id": "1f112301",
   "metadata": {},
   "outputs": [
    {
     "name": "stderr",
     "output_type": "stream",
     "text": [
      "[21:41:47] WARNING: not removing hydrogen atom without neighbors\n"
     ]
    }
   ],
   "source": [
    "df['NumHeavyAtoms'] = df['SMILES'].apply(get_num_heavy_atoms)\n"
   ]
  },
  {
   "cell_type": "code",
   "execution_count": 8,
   "id": "7093f33d",
   "metadata": {},
   "outputs": [],
   "source": [
    "def get_num_rotatable_bonds(smiles):\n",
    "    mol = Chem.MolFromSmiles(smiles)\n",
    "    if mol is not None:\n",
    "        return Descriptors.NumRotatableBonds(mol)\n",
    "    else:\n",
    "        return None\n"
   ]
  },
  {
   "cell_type": "code",
   "execution_count": 9,
   "id": "a33290d9",
   "metadata": {},
   "outputs": [
    {
     "name": "stderr",
     "output_type": "stream",
     "text": [
      "[21:42:10] WARNING: not removing hydrogen atom without neighbors\n"
     ]
    }
   ],
   "source": [
    "df['NumRotatableBonds'] = df['SMILES'].apply(get_num_rotatable_bonds)\n"
   ]
  },
  {
   "cell_type": "code",
   "execution_count": 10,
   "id": "5181f585",
   "metadata": {},
   "outputs": [],
   "source": [
    "def get_mol_formula(smiles):\n",
    "    mol = Chem.MolFromSmiles(smiles)\n",
    "    if mol is not None:\n",
    "        return Chem.rdMolDescriptors.CalcMolFormula(mol)\n",
    "    else:\n",
    "        return None\n"
   ]
  },
  {
   "cell_type": "code",
   "execution_count": 11,
   "id": "df44bada",
   "metadata": {},
   "outputs": [
    {
     "name": "stderr",
     "output_type": "stream",
     "text": [
      "[21:42:34] WARNING: not removing hydrogen atom without neighbors\n"
     ]
    }
   ],
   "source": [
    "df['MolFormula'] = df['SMILES'].apply(get_mol_formula)\n"
   ]
  },
  {
   "cell_type": "code",
   "execution_count": 12,
   "id": "4704b64b",
   "metadata": {},
   "outputs": [
    {
     "data": {
      "text/html": [
       "<div>\n",
       "<style scoped>\n",
       "    .dataframe tbody tr th:only-of-type {\n",
       "        vertical-align: middle;\n",
       "    }\n",
       "\n",
       "    .dataframe tbody tr th {\n",
       "        vertical-align: top;\n",
       "    }\n",
       "\n",
       "    .dataframe thead th {\n",
       "        text-align: right;\n",
       "    }\n",
       "</style>\n",
       "<table border=\"1\" class=\"dataframe\">\n",
       "  <thead>\n",
       "    <tr style=\"text-align: right;\">\n",
       "      <th></th>\n",
       "      <th>Name</th>\n",
       "      <th>MolWeight</th>\n",
       "      <th>SMILES</th>\n",
       "      <th>toxicity_score</th>\n",
       "      <th>NumAtoms</th>\n",
       "      <th>NumHeavyAtoms</th>\n",
       "      <th>NumRotatableBonds</th>\n",
       "      <th>MolFormula</th>\n",
       "    </tr>\n",
       "  </thead>\n",
       "  <tbody>\n",
       "    <tr>\n",
       "      <th>0</th>\n",
       "      <td>NCGC00178831-03</td>\n",
       "      <td>468.992</td>\n",
       "      <td>C[n+]1c2cc(N)ccc2cc2ccc(N)cc21.Nc1ccc2cc3ccc(N...</td>\n",
       "      <td>1.53830</td>\n",
       "      <td>34</td>\n",
       "      <td>34</td>\n",
       "      <td>0</td>\n",
       "      <td>C27H25ClN6</td>\n",
       "    </tr>\n",
       "    <tr>\n",
       "      <th>1</th>\n",
       "      <td>NCGC00166114-03</td>\n",
       "      <td>691.859</td>\n",
       "      <td>O=C([O-])c1ccccc1-c1c2cc(Br)c(=O)c(Br)c-2oc2c(...</td>\n",
       "      <td>-0.94010</td>\n",
       "      <td>31</td>\n",
       "      <td>31</td>\n",
       "      <td>2</td>\n",
       "      <td>C20H6Br4Na2O5</td>\n",
       "    </tr>\n",
       "    <tr>\n",
       "      <th>2</th>\n",
       "      <td>NCGC00263563-01</td>\n",
       "      <td>934.171</td>\n",
       "      <td>CO[C@@H]1[C@@H](OC)[C@H](C)[C@@](O)(CC(=O)[O-]...</td>\n",
       "      <td>3.35840</td>\n",
       "      <td>65</td>\n",
       "      <td>65</td>\n",
       "      <td>13</td>\n",
       "      <td>C47H83NO17</td>\n",
       "    </tr>\n",
       "    <tr>\n",
       "      <th>3</th>\n",
       "      <td>NCGC00013058-02</td>\n",
       "      <td>927.020</td>\n",
       "      <td>CN(C)c1ccc(C(=C2C=CC(=[N+](C)C)C=C2)c2ccccc2)c...</td>\n",
       "      <td>3.58460</td>\n",
       "      <td>68</td>\n",
       "      <td>68</td>\n",
       "      <td>6</td>\n",
       "      <td>C52H54N4O12</td>\n",
       "    </tr>\n",
       "    <tr>\n",
       "      <th>4</th>\n",
       "      <td>NCGC00167516-01</td>\n",
       "      <td>1342.527</td>\n",
       "      <td>CC(=O)O.CCNC(=O)[C@@H]1CCCN1C(=O)[C@H](CCCNC(=...</td>\n",
       "      <td>-0.45963</td>\n",
       "      <td>97</td>\n",
       "      <td>97</td>\n",
       "      <td>32</td>\n",
       "      <td>C66H87N17O14</td>\n",
       "    </tr>\n",
       "  </tbody>\n",
       "</table>\n",
       "</div>"
      ],
      "text/plain": [
       "              Name  MolWeight  \\\n",
       "0  NCGC00178831-03    468.992   \n",
       "1  NCGC00166114-03    691.859   \n",
       "2  NCGC00263563-01    934.171   \n",
       "3  NCGC00013058-02    927.020   \n",
       "4  NCGC00167516-01   1342.527   \n",
       "\n",
       "                                              SMILES  toxicity_score  \\\n",
       "0  C[n+]1c2cc(N)ccc2cc2ccc(N)cc21.Nc1ccc2cc3ccc(N...         1.53830   \n",
       "1  O=C([O-])c1ccccc1-c1c2cc(Br)c(=O)c(Br)c-2oc2c(...        -0.94010   \n",
       "2  CO[C@@H]1[C@@H](OC)[C@H](C)[C@@](O)(CC(=O)[O-]...         3.35840   \n",
       "3  CN(C)c1ccc(C(=C2C=CC(=[N+](C)C)C=C2)c2ccccc2)c...         3.58460   \n",
       "4  CC(=O)O.CCNC(=O)[C@@H]1CCCN1C(=O)[C@H](CCCNC(=...        -0.45963   \n",
       "\n",
       "   NumAtoms  NumHeavyAtoms  NumRotatableBonds     MolFormula  \n",
       "0        34             34                  0     C27H25ClN6  \n",
       "1        31             31                  2  C20H6Br4Na2O5  \n",
       "2        65             65                 13     C47H83NO17  \n",
       "3        68             68                  6    C52H54N4O12  \n",
       "4        97             97                 32   C66H87N17O14  "
      ]
     },
     "execution_count": 12,
     "metadata": {},
     "output_type": "execute_result"
    }
   ],
   "source": [
    "df.head()"
   ]
  },
  {
   "cell_type": "code",
   "execution_count": 13,
   "id": "a3aff05a",
   "metadata": {},
   "outputs": [],
   "source": [
    "df.to_csv('feature_engineered_data.csv', index=False)\n"
   ]
  },
  {
   "cell_type": "code",
   "execution_count": null,
   "id": "abfdbcc1",
   "metadata": {},
   "outputs": [],
   "source": []
  }
 ],
 "metadata": {
  "kernelspec": {
   "display_name": "Python 3 (ipykernel)",
   "language": "python",
   "name": "python3"
  },
  "language_info": {
   "codemirror_mode": {
    "name": "ipython",
    "version": 3
   },
   "file_extension": ".py",
   "mimetype": "text/x-python",
   "name": "python",
   "nbconvert_exporter": "python",
   "pygments_lexer": "ipython3",
   "version": "3.10.9"
  }
 },
 "nbformat": 4,
 "nbformat_minor": 5
}
